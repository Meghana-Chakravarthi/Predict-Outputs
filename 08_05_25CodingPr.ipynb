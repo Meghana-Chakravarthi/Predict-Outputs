{
  "nbformat": 4,
  "nbformat_minor": 0,
  "metadata": {
    "colab": {
      "provenance": [],
      "authorship_tag": "ABX9TyMFJD4nj0Ol3FCGOkK4rd15",
      "include_colab_link": true
    },
    "kernelspec": {
      "name": "python3",
      "display_name": "Python 3"
    },
    "language_info": {
      "name": "python"
    }
  },
  "cells": [
    {
      "cell_type": "markdown",
      "metadata": {
        "id": "view-in-github",
        "colab_type": "text"
      },
      "source": [
        "<a href=\"https://colab.research.google.com/github/Meghana-Chakravarthi/Predict-Outputs/blob/main/08_05_25CodingPr.ipynb\" target=\"_parent\"><img src=\"https://colab.research.google.com/assets/colab-badge.svg\" alt=\"Open In Colab\"/></a>"
      ]
    },
    {
      "cell_type": "code",
      "execution_count": null,
      "metadata": {
        "colab": {
          "base_uri": "https://localhost:8080/",
          "height": 228
        },
        "id": "42Z7tPSLV9xy",
        "outputId": "ace2e50b-6129-45a2-a6cd-1fbe78998fc8"
      },
      "outputs": [
        {
          "output_type": "stream",
          "name": "stdout",
          "text": [
            "10\n",
            "1.0\n"
          ]
        },
        {
          "output_type": "error",
          "ename": "ZeroDivisionError",
          "evalue": "division by zero",
          "traceback": [
            "\u001b[0;31m---------------------------------------------------------------------------\u001b[0m",
            "\u001b[0;31mZeroDivisionError\u001b[0m                         Traceback (most recent call last)",
            "\u001b[0;32m<ipython-input-1-f876a934d2b4>\u001b[0m in \u001b[0;36m<cell line: 0>\u001b[0;34m()\u001b[0m\n\u001b[1;32m      1\u001b[0m \u001b[0mprint\u001b[0m\u001b[0;34m(\u001b[0m\u001b[0;36m5\u001b[0m\u001b[0;34m+\u001b[0m\u001b[0;36m5\u001b[0m\u001b[0;34m)\u001b[0m\u001b[0;34m\u001b[0m\u001b[0;34m\u001b[0m\u001b[0m\n\u001b[1;32m      2\u001b[0m \u001b[0mprint\u001b[0m\u001b[0;34m(\u001b[0m\u001b[0;36m5\u001b[0m\u001b[0;34m/\u001b[0m\u001b[0;36m5\u001b[0m\u001b[0;34m)\u001b[0m\u001b[0;34m\u001b[0m\u001b[0;34m\u001b[0m\u001b[0m\n\u001b[0;32m----> 3\u001b[0;31m \u001b[0mprint\u001b[0m\u001b[0;34m(\u001b[0m\u001b[0;36m5\u001b[0m\u001b[0;34m/\u001b[0m\u001b[0;36m0\u001b[0m\u001b[0;34m)\u001b[0m\u001b[0;34m\u001b[0m\u001b[0;34m\u001b[0m\u001b[0m\n\u001b[0m\u001b[1;32m      4\u001b[0m \u001b[0mprint\u001b[0m\u001b[0;34m(\u001b[0m\u001b[0;36m1\u001b[0m\u001b[0;34m+\u001b[0m\u001b[0;36m1\u001b[0m\u001b[0;34m)\u001b[0m\u001b[0;34m\u001b[0m\u001b[0;34m\u001b[0m\u001b[0m\n",
            "\u001b[0;31mZeroDivisionError\u001b[0m: division by zero"
          ]
        }
      ],
      "source": [
        "print(5+5)\n",
        "print(5/5)\n",
        "print(5/0)\n",
        "print(1+1)"
      ]
    },
    {
      "cell_type": "code",
      "source": [
        "print(5+5)\n",
        "print(5/5)\n",
        "try:\n",
        "  print(5/0)\n",
        "except:\n",
        "  print(\"Invalid Division by Zero\")\n",
        "print(1+1)"
      ],
      "metadata": {
        "colab": {
          "base_uri": "https://localhost:8080/"
        },
        "id": "b4Lva0_qWQKd",
        "outputId": "3950a1da-9ea0-4299-cfa5-e2b577773e00"
      },
      "execution_count": null,
      "outputs": [
        {
          "output_type": "stream",
          "name": "stdout",
          "text": [
            "10\n",
            "1.0\n",
            "Invalid Division by Zero\n",
            "2\n"
          ]
        }
      ]
    },
    {
      "cell_type": "code",
      "source": [
        "numerator = float(input(\"Enter the numerator: \"))\n",
        "denominator = float(input(\"Enter the denominator: \"))\n",
        "if denominator == 0:\n",
        "    raise ZeroDivisionError(\"Error: Denominator cannot be zero.\")\n",
        "else:\n",
        "    quotient = numerator / denominator\n",
        "    print(\"Quotient:\", quotient)"
      ],
      "metadata": {
        "colab": {
          "base_uri": "https://localhost:8080/"
        },
        "id": "7o2CuLk5X998",
        "outputId": "651cc433-070f-4c0b-ac7d-cbd36ae59e37"
      },
      "execution_count": null,
      "outputs": [
        {
          "output_type": "stream",
          "name": "stdout",
          "text": [
            "Enter the numerator: 12\n",
            "Enter the denominator: 5\n",
            "Quotient: 2.4\n"
          ]
        }
      ]
    },
    {
      "cell_type": "markdown",
      "source": [
        "Find the difference between\n",
        "\n",
        "1)Exception handling\n",
        "\n",
        "2)Throwing an exception\n",
        "\n",
        "3)Catching an exception"
      ],
      "metadata": {
        "id": "lMHlcmJ9YTFL"
      }
    },
    {
      "cell_type": "markdown",
      "source": [
        "**AND**"
      ],
      "metadata": {
        "id": "QU-Q_hbq83DH"
      }
    },
    {
      "cell_type": "code",
      "source": [
        "print(\"X\",\"|\",\"Y\",\"|\",\"X and Y\")\n",
        "for i in range(0,2):\n",
        "  for j in range(0,2):\n",
        "    print(i,\"|\",j,\"|\",i and j)"
      ],
      "metadata": {
        "colab": {
          "base_uri": "https://localhost:8080/"
        },
        "id": "ZHES-3GqaScG",
        "outputId": "86c3072f-7dca-401c-ef69-f9b6fa8577ad"
      },
      "execution_count": null,
      "outputs": [
        {
          "output_type": "stream",
          "name": "stdout",
          "text": [
            "X | Y | X and Y\n",
            "0 | 0 | 0\n",
            "0 | 1 | 0\n",
            "1 | 0 | 0\n",
            "1 | 1 | 1\n"
          ]
        }
      ]
    },
    {
      "cell_type": "markdown",
      "source": [
        "**OR**"
      ],
      "metadata": {
        "id": "iGukM5uN88Mj"
      }
    },
    {
      "cell_type": "code",
      "source": [
        "print(\"X\",\"|\",\"Y\",\"|\",\"X or Y\")\n",
        "for i in range(0,2):\n",
        "  print(i,\"|\",0,\"|\",i or 0)\n",
        "  print(i,\"|\",1,\"|\",i or 1)"
      ],
      "metadata": {
        "colab": {
          "base_uri": "https://localhost:8080/"
        },
        "id": "GDzmdd0Gb5vj",
        "outputId": "cfdf3a74-6285-40e9-eff3-d67a15bdfa7b"
      },
      "execution_count": null,
      "outputs": [
        {
          "output_type": "stream",
          "name": "stdout",
          "text": [
            "X | Y | X or Y\n",
            "0 | 0 | 0\n",
            "0 | 1 | 1\n",
            "1 | 0 | 1\n",
            "1 | 1 | 1\n"
          ]
        }
      ]
    },
    {
      "cell_type": "markdown",
      "source": [
        "**NOT**"
      ],
      "metadata": {
        "id": "VoxvmKlu9BSc"
      }
    },
    {
      "cell_type": "code",
      "source": [
        "print(\"X\",\"|\",\"not X\")\n",
        "for i in range(0,2):\n",
        "  print(i,\"|\",int(not i))"
      ],
      "metadata": {
        "colab": {
          "base_uri": "https://localhost:8080/"
        },
        "id": "N2qRatjSdDaD",
        "outputId": "c35350db-fc91-484f-adf2-d555990c7327"
      },
      "execution_count": null,
      "outputs": [
        {
          "output_type": "stream",
          "name": "stdout",
          "text": [
            "X | not X\n",
            "0 | 1\n",
            "1 | 0\n"
          ]
        }
      ]
    },
    {
      "cell_type": "code",
      "source": [
        "print(\"X\",\"|\",\"Y\",\"|\",\"Z\",\"|\",\"X or (Y and Z)\")\n",
        "print(\"-------------\")\n",
        "for i in range(0,2):\n",
        "  for j in range(0,2):\n",
        "    for k in range(0,2):\n",
        "      d=j and k\n",
        "      print(i,\"|\",j,\"|\",k,\"|\",d or i)\n",
        "      print(\"-------------\")"
      ],
      "metadata": {
        "colab": {
          "base_uri": "https://localhost:8080/"
        },
        "id": "adLMcA7AeYyb",
        "outputId": "b564794d-2d88-4f5a-8230-59ef01b85271"
      },
      "execution_count": null,
      "outputs": [
        {
          "output_type": "stream",
          "name": "stdout",
          "text": [
            "X | Y | Z | X or (Y and Z)\n",
            "-------------\n",
            "0 | 0 | 0 | 0\n",
            "-------------\n",
            "0 | 0 | 1 | 0\n",
            "-------------\n",
            "0 | 1 | 0 | 0\n",
            "-------------\n",
            "0 | 1 | 1 | 1\n",
            "-------------\n",
            "1 | 0 | 0 | 1\n",
            "-------------\n",
            "1 | 0 | 1 | 1\n",
            "-------------\n",
            "1 | 1 | 0 | 1\n",
            "-------------\n",
            "1 | 1 | 1 | 1\n",
            "-------------\n"
          ]
        }
      ]
    },
    {
      "cell_type": "code",
      "source": [
        "print(\"X\",\"|\",\"Y\",\"|\",\"X xor Y\")\n",
        "print(\"---------\")\n",
        "for i in range(0,2):\n",
        "  print(i,\"|\",0,\"|\",i ^ 0)\n",
        "  print(\"---------\")\n",
        "  print(i,\"|\",1,\"|\",i ^ 1)\n",
        "  print(\"---------\")"
      ],
      "metadata": {
        "colab": {
          "base_uri": "https://localhost:8080/"
        },
        "id": "rF8fVD3bfkiv",
        "outputId": "31ec44e4-3c14-4d74-a145-c53fa7e46461"
      },
      "execution_count": null,
      "outputs": [
        {
          "output_type": "stream",
          "name": "stdout",
          "text": [
            "X | Y | X xor Y\n",
            "---------\n",
            "0 | 0 | 0\n",
            "---------\n",
            "0 | 1 | 1\n",
            "---------\n",
            "1 | 0 | 1\n",
            "---------\n",
            "1 | 1 | 0\n",
            "---------\n"
          ]
        }
      ]
    }
  ]
}