{
  "nbformat": 4,
  "nbformat_minor": 0,
  "metadata": {
    "colab": {
      "provenance": []
    },
    "kernelspec": {
      "name": "python3",
      "display_name": "Python 3"
    },
    "language_info": {
      "name": "python"
    }
  },
  "cells": [
    {
      "cell_type": "code",
      "execution_count": 1,
      "metadata": {
        "colab": {
          "base_uri": "https://localhost:8080/"
        },
        "id": "iUG0sewmtlsK",
        "outputId": "015bcb55-7df0-428b-ca36-833432e43f57"
      },
      "outputs": [
        {
          "output_type": "stream",
          "name": "stdout",
          "text": [
            "2\n",
            "(1, 2)\n",
            "(5, (7, 5, (1, 2)), 5, 4, 5, (7, 5, (1, 2)), 5, 4, 5, (7, 5, (1, 2)), 5, 4)\n",
            "4\n",
            "(5, (7, 5, (1, 2)), 5, 4, 7, 8, (4, 5))\n"
          ]
        }
      ],
      "source": [
        "a = (5,(7,5,(1,2)),5,4)\n",
        "print(a.count(5))\n",
        "print(a[1][2])\n",
        "print(a * 3)\n",
        "print(len(a))\n",
        "b = (7,8,(4,5))\n",
        "print(a + b)"
      ]
    },
    {
      "cell_type": "code",
      "source": [
        "x = [3, 6, 9, 12, 15]\n",
        "y = x[::-1]\n",
        "print(y[1] + x[-3])"
      ],
      "metadata": {
        "colab": {
          "base_uri": "https://localhost:8080/"
        },
        "id": "2pTeMCCmtuo2",
        "outputId": "99617a33-ab9c-4475-a48e-71308f8150de"
      },
      "execution_count": 2,
      "outputs": [
        {
          "output_type": "stream",
          "name": "stdout",
          "text": [
            "21\n"
          ]
        }
      ]
    },
    {
      "cell_type": "code",
      "source": [
        "word = \"Whatever\"\n",
        "print(word[:3] + word[-1] + word[4:2:-1])"
      ],
      "metadata": {
        "colab": {
          "base_uri": "https://localhost:8080/"
        },
        "id": "XD7nI4sntyWT",
        "outputId": "74c1624e-cb0e-4577-9834-6dfb3d64fce0"
      },
      "execution_count": 3,
      "outputs": [
        {
          "output_type": "stream",
          "name": "stdout",
          "text": [
            "Wharet\n"
          ]
        }
      ]
    },
    {
      "cell_type": "code",
      "source": [
        "nums = {3, 6, 9, 12}\n",
        "nums.add(15)\n",
        "nums.remove(6)\n",
        "nums.update([18, 21])\n",
        "nums.discard(99)\n",
        "print(sum(nums))"
      ],
      "metadata": {
        "colab": {
          "base_uri": "https://localhost:8080/"
        },
        "id": "n3r6qSqgtyO7",
        "outputId": "83e410b5-8be3-4965-ba12-a37c01009f2a"
      },
      "execution_count": 4,
      "outputs": [
        {
          "output_type": "stream",
          "name": "stdout",
          "text": [
            "78\n"
          ]
        }
      ]
    },
    {
      "cell_type": "code",
      "source": [
        "info = {\"name\": \"Sara\", \"age\": 18, \"state\": \"Kerala\"}\n",
        "info[\"age\"] += 4\n",
        "info[\"country\"] = \"India\"\n",
        "print(info.keys())\n",
        "print(info.get(\"state\", \"Unknown\"))"
      ],
      "metadata": {
        "colab": {
          "base_uri": "https://localhost:8080/"
        },
        "id": "3R0SNreptyMk",
        "outputId": "3c509b67-65e8-454b-b74d-6f636140bff6"
      },
      "execution_count": 5,
      "outputs": [
        {
          "output_type": "stream",
          "name": "stdout",
          "text": [
            "dict_keys(['name', 'age', 'state', 'country'])\n",
            "Kerala\n"
          ]
        }
      ]
    },
    {
      "cell_type": "code",
      "source": [
        "num_list = [5, 10, 15, 20, 25]\n",
        "res = list(map(lambda x: x % 3, num_list))\n",
        "print(res)"
      ],
      "metadata": {
        "colab": {
          "base_uri": "https://localhost:8080/"
        },
        "id": "XE46Mw3atyH1",
        "outputId": "168d5e74-fe5e-44ef-dca2-f0530da418ce"
      },
      "execution_count": 6,
      "outputs": [
        {
          "output_type": "stream",
          "name": "stdout",
          "text": [
            "[2, 1, 0, 2, 1]\n"
          ]
        }
      ]
    },
    {
      "cell_type": "code",
      "source": [
        "ages = [15, 22, 18, 30, 12, 40, 90]\n",
        "adults = list(filter(lambda x: x >= 18, ages))\n",
        "print(len(adults))"
      ],
      "metadata": {
        "colab": {
          "base_uri": "https://localhost:8080/"
        },
        "id": "Pnc5ClvPtyFc",
        "outputId": "9f8ac5c0-6701-41dd-9ef2-58890152c936"
      },
      "execution_count": 7,
      "outputs": [
        {
          "output_type": "stream",
          "name": "stdout",
          "text": [
            "5\n"
          ]
        }
      ]
    },
    {
      "cell_type": "code",
      "source": [
        "from functools import reduce\n",
        "nums = [1, 2, 3, 4, 5]\n",
        "result = reduce(lambda x, y: x * y, nums)\n",
        "print(result)"
      ],
      "metadata": {
        "colab": {
          "base_uri": "https://localhost:8080/"
        },
        "id": "hyXZ9EVFtx4a",
        "outputId": "c4a4085f-6a86-4f5c-e7ba-cca84fd7e4c3"
      },
      "execution_count": 8,
      "outputs": [
        {
          "output_type": "stream",
          "name": "stdout",
          "text": [
            "120\n"
          ]
        }
      ]
    },
    {
      "cell_type": "code",
      "source": [
        "alpha = [\"a\", \"b\", \"c\", \"d\"]\n",
        "print(alpha.pop(2) + alpha[-1])\n",
        "print(alpha)"
      ],
      "metadata": {
        "colab": {
          "base_uri": "https://localhost:8080/"
        },
        "id": "NEDlA0ayuHRw",
        "outputId": "947c2f31-121f-4bea-c99d-d5e3408bd45e"
      },
      "execution_count": 9,
      "outputs": [
        {
          "output_type": "stream",
          "name": "stdout",
          "text": [
            "cd\n",
            "['a', 'b', 'd']\n"
          ]
        }
      ]
    },
    {
      "cell_type": "code",
      "source": [
        "x = 10\n",
        "y = 3\n",
        "x, y = x % y, x // y\n",
        "print(x, y)"
      ],
      "metadata": {
        "colab": {
          "base_uri": "https://localhost:8080/"
        },
        "id": "Zp30J4eCuHAq",
        "outputId": "5c4fc137-7dae-44d9-90f4-ff5d57a71b74"
      },
      "execution_count": 10,
      "outputs": [
        {
          "output_type": "stream",
          "name": "stdout",
          "text": [
            "1 3\n"
          ]
        }
      ]
    }
  ]
}