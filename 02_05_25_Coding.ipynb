{
  "nbformat": 4,
  "nbformat_minor": 0,
  "metadata": {
    "colab": {
      "provenance": []
    },
    "kernelspec": {
      "name": "python3",
      "display_name": "Python 3"
    },
    "language_info": {
      "name": "python"
    }
  },
  "cells": [
    {
      "cell_type": "code",
      "execution_count": null,
      "metadata": {
        "colab": {
          "base_uri": "https://localhost:8080/"
        },
        "id": "C-6LQFzWKeJL",
        "outputId": "f0b40e97-2ae1-4946-ae0f-751a8834922f"
      },
      "outputs": [
        {
          "output_type": "stream",
          "name": "stdout",
          "text": [
            "15 25 -5\n"
          ]
        }
      ],
      "source": [
        "#1\n",
        "a=10\n",
        "b=20\n",
        "c=-5\n",
        "a,b,a=a+c,b-c,b+c\n",
        "print(a,b,c)"
      ]
    },
    {
      "cell_type": "code",
      "source": [
        "#2\n",
        "s=\"ComputerScience\"\n",
        "print(s[2]+s[-4]+s[1:-7])"
      ],
      "metadata": {
        "colab": {
          "base_uri": "https://localhost:8080/"
        },
        "id": "L6y27_n-K32g",
        "outputId": "48b568f6-3e28-4690-cbc1-115f86b596d4"
      },
      "execution_count": null,
      "outputs": [
        {
          "output_type": "stream",
          "name": "stdout",
          "text": [
            "meomputer\n"
          ]
        }
      ]
    },
    {
      "cell_type": "code",
      "source": [
        "#3\n",
        "import random\n",
        "val=[10,20,30,40,50,60,70,80]\n",
        "start=random.randint(1,3)\n",
        "stop=random.randint(start,4)\n",
        "for x in range(start,stop):\n",
        "    print(val[x],end=\"#\")"
      ],
      "metadata": {
        "colab": {
          "base_uri": "https://localhost:8080/"
        },
        "id": "4VldpzjvLDh3",
        "outputId": "f79e9b96-50e1-462e-996e-640c0e29f773"
      },
      "execution_count": null,
      "outputs": [
        {
          "output_type": "stream",
          "name": "stdout",
          "text": [
            "20#30#40#"
          ]
        }
      ]
    },
    {
      "cell_type": "code",
      "source": [
        "#4\n",
        "def changeList(x,y):\n",
        "  x[0]=25\n",
        "  y=[2,3]\n",
        "l1=[-11,-21]\n",
        "l2=[14,23]\n",
        "changeList(l1,l2)\n",
        "print(str(l1[0])+\"#\"+str(l2[0]))"
      ],
      "metadata": {
        "colab": {
          "base_uri": "https://localhost:8080/"
        },
        "id": "SPJQkuInLami",
        "outputId": "11c2e6f3-0c5d-472f-ac08-2e0b4ef4bdc2"
      },
      "execution_count": null,
      "outputs": [
        {
          "output_type": "stream",
          "name": "stdout",
          "text": [
            "25#14\n"
          ]
        }
      ]
    },
    {
      "cell_type": "code",
      "source": [
        "#5\n",
        "l1=[10,90,30,40,50]\n",
        "start=1\n",
        "s=0\n",
        "for c in range(start,4):\n",
        "  s=s+l1[c]\n",
        "  print(c,\":\")\n",
        "s=s+l1[0]*10\n",
        "print(s)"
      ],
      "metadata": {
        "colab": {
          "base_uri": "https://localhost:8080/"
        },
        "id": "gnpB8dBDMfOP",
        "outputId": "29fabd31-24be-45ae-ca13-843a69ab2957"
      },
      "execution_count": null,
      "outputs": [
        {
          "output_type": "stream",
          "name": "stdout",
          "text": [
            "1 :\n",
            "2 :\n",
            "3 :\n",
            "260\n"
          ]
        }
      ]
    },
    {
      "cell_type": "code",
      "source": [
        "#6\n",
        "mystr=\"SiMPLEQUESTiONS\"\n",
        "print(mystr.count('E',2,12))\n",
        "print(mystr.count('PL',1,12))"
      ],
      "metadata": {
        "colab": {
          "base_uri": "https://localhost:8080/"
        },
        "id": "WYDmxU0WM-QC",
        "outputId": "141b58a8-32b5-4f8f-88ef-e45e1f01cf60"
      },
      "execution_count": null,
      "outputs": [
        {
          "output_type": "stream",
          "name": "stdout",
          "text": [
            "2\n",
            "1\n"
          ]
        }
      ]
    },
    {
      "cell_type": "code",
      "source": [
        "#7\n",
        "d={'A':'ARUN','GRADE':'A'}\n",
        "print(list(d.values()))"
      ],
      "metadata": {
        "colab": {
          "base_uri": "https://localhost:8080/"
        },
        "id": "M4W7dIkTNR1t",
        "outputId": "17b2f949-93d4-4474-872f-ea604c05234d"
      },
      "execution_count": null,
      "outputs": [
        {
          "output_type": "stream",
          "name": "stdout",
          "text": [
            "['ARUN', 'A']\n"
          ]
        }
      ]
    },
    {
      "cell_type": "code",
      "source": [
        "from os import WEXITED\n",
        "#8\n",
        "x=25\n",
        "def modify(s,c=2):\n",
        "  global x\n",
        "  for a in s:\n",
        "    if a in 'QWEiop':\n",
        "      x//=5\n",
        "      print(a.upper(),'@',c*x)\n",
        "    else:\n",
        "      x+=5\n",
        "      print(a.lower(),'#',c+x)\n",
        "s1='SaRa'\n",
        "modify(s1,10)\n",
        "print(x,'$',s1)\n",
        "s2='WE'\n",
        "modify(s2)\n",
        "print(x,'$',s2)"
      ],
      "metadata": {
        "colab": {
          "base_uri": "https://localhost:8080/"
        },
        "id": "kzpa6YwENhHv",
        "outputId": "a6142243-2616-4305-e8ec-09fa039ac051"
      },
      "execution_count": null,
      "outputs": [
        {
          "output_type": "stream",
          "name": "stdout",
          "text": [
            "s # 40\n",
            "a # 45\n",
            "r # 50\n",
            "a # 55\n",
            "45 $ SaRa\n",
            "W @ 18\n",
            "E @ 2\n",
            "1 $ WE\n"
          ]
        }
      ]
    },
    {
      "cell_type": "code",
      "source": [
        "#9\n",
        "print(5-2**2**2+99//11)"
      ],
      "metadata": {
        "colab": {
          "base_uri": "https://localhost:8080/"
        },
        "id": "z0y0jZIqOTcE",
        "outputId": "0445397e-a215-4ba4-b78a-b8e1380ee74c"
      },
      "execution_count": null,
      "outputs": [
        {
          "output_type": "stream",
          "name": "stdout",
          "text": [
            "-2\n"
          ]
        }
      ]
    },
    {
      "cell_type": "code",
      "source": [
        "#10\n",
        "for i in \"BVRIT Hyderabad\":\n",
        "  print(i.lower(),end=\"#\")"
      ],
      "metadata": {
        "colab": {
          "base_uri": "https://localhost:8080/"
        },
        "id": "_1nhzENGOd3d",
        "outputId": "5ed50462-0af2-4443-c93a-a8c3775bcd94"
      },
      "execution_count": null,
      "outputs": [
        {
          "output_type": "stream",
          "name": "stdout",
          "text": [
            "b#v#r#i#t# #h#y#d#e#r#a#b#a#d#"
          ]
        }
      ]
    },
    {
      "cell_type": "code",
      "source": [
        "#11\n",
        "a=[20,30,40,50,60,70]\n",
        "f=random.randint(1,3)\n",
        "t=random.randint(2,4)\n",
        "for k in range(f,t):\n",
        "  print(a[k],end=\"#\")"
      ],
      "metadata": {
        "colab": {
          "base_uri": "https://localhost:8080/"
        },
        "id": "fsZmz13hO4AR",
        "outputId": "9be7cbf9-19e9-491e-9c45-5c7482843c76"
      },
      "execution_count": null,
      "outputs": [
        {
          "output_type": "stream",
          "name": "stdout",
          "text": [
            "40#50#"
          ]
        }
      ]
    },
    {
      "cell_type": "code",
      "source": [
        "#12\n",
        "import math\n",
        "print(str(int(math.pow(random.randint (2,4),2))))\n",
        "print(str(int(math.pow(random.randint (2,4),2))))\n",
        "print(str(int(math.pow(random.randint (2,4),2))))"
      ],
      "metadata": {
        "colab": {
          "base_uri": "https://localhost:8080/"
        },
        "id": "t5bDEY-lQY4z",
        "outputId": "a2804336-20f8-46a5-d671-2a4acc1752ee"
      },
      "execution_count": null,
      "outputs": [
        {
          "output_type": "stream",
          "name": "stdout",
          "text": [
            "9\n",
            "9\n",
            "16\n"
          ]
        }
      ]
    },
    {
      "cell_type": "code",
      "source": [
        "#13\n",
        "import random as r\n",
        "print(10+r.randint(10,15),end=\" \")"
      ],
      "metadata": {
        "colab": {
          "base_uri": "https://localhost:8080/"
        },
        "id": "iZAEosh3Q_DJ",
        "outputId": "0bc42f40-1e7a-46a7-fe12-7268abf90e3b"
      },
      "execution_count": null,
      "outputs": [
        {
          "output_type": "stream",
          "name": "stdout",
          "text": [
            "25 "
          ]
        }
      ]
    },
    {
      "cell_type": "code",
      "source": [
        "#14\n",
        "import random as r\n",
        "print(r.randint(15,25),end=\" \")\n",
        "print(100+r.randint(15,25),end=\" \")\n",
        "print(100-r.randint(15,25),end=\" \")\n",
        "print(100*r.randint(15,25),end=\" \")"
      ],
      "metadata": {
        "colab": {
          "base_uri": "https://localhost:8080/"
        },
        "id": "D4Ec9ZOufXn0",
        "outputId": "5a5d6957-aa01-451a-b0b4-5d1649480a46"
      },
      "execution_count": null,
      "outputs": [
        {
          "output_type": "stream",
          "name": "stdout",
          "text": [
            "22 124 79 2300 "
          ]
        }
      ]
    }
  ]
}