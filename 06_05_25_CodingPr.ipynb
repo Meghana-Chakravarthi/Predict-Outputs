{
  "nbformat": 4,
  "nbformat_minor": 0,
  "metadata": {
    "colab": {
      "provenance": []
    },
    "kernelspec": {
      "name": "python3",
      "display_name": "Python 3"
    },
    "language_info": {
      "name": "python"
    }
  },
  "cells": [
    {
      "cell_type": "code",
      "source": [
        "# 1.Write a Python program to check that a string contains only a certain set of characters (in this case A-P and 5-9)\n",
        "import re\n",
        "def check_string(s):\n",
        "    # Define the pattern to match characters A-P and 5-9\n",
        "    pattern = r'^[A-P5-9]+$'\n",
        "    # Use re.match to check if the entire string matches the pattern\n",
        "    # Return True if it matches, otherwise False\n",
        "    if re.match(pattern, s)  :\n",
        "      return(\"GOOD STRING\")\n",
        "    else:\n",
        "      return(\"BAD STRING\")\n",
        "print(check_string(\"ABCP579\")) # GOOD String\n",
        "print(check_string(\"ABQ579\")) # BAD String (Q is not in A-P)\n",
        "print(check_string(\"A9P\")) # GOOD String\n",
        "print(check_string(\"a5P\"))"
      ],
      "metadata": {
        "colab": {
          "base_uri": "https://localhost:8080/"
        },
        "id": "zd9i5oQlITfK",
        "outputId": "40d95159-b713-4de3-f4f3-f76045dabca7"
      },
      "execution_count": null,
      "outputs": [
        {
          "output_type": "stream",
          "name": "stdout",
          "text": [
            "GOOD STRING\n",
            "BAD STRING\n",
            "GOOD STRING\n",
            "BAD STRING\n"
          ]
        }
      ]
    },
    {
      "cell_type": "code",
      "source": [
        "# 2.Write a Python program that matches a string that has an ‘a’ followed by zero or more k's\n",
        "import re\n",
        "def match_ak(s):\n",
        "    # Define the pattern to match the desired string\n",
        "    pattern = r'a(k*)$'\n",
        "    if re.match(pattern, s):\n",
        "        return(\"Match Found\")\n",
        "    else:\n",
        "        return(\"No Match\")\n",
        "print(match_ak(\"a\"))\n",
        "print(match_ak(\"ak\"))\n",
        "print(match_ak(\"akkk\"))\n",
        "print(match_ak(\"b\"))\n",
        "print(match_ak(\"akkp\"))"
      ],
      "metadata": {
        "colab": {
          "base_uri": "https://localhost:8080/"
        },
        "id": "VUdqQkWeJkSw",
        "outputId": "4d25aa05-4949-406a-c565-a753939208e9"
      },
      "execution_count": null,
      "outputs": [
        {
          "output_type": "stream",
          "name": "stdout",
          "text": [
            "Match Found\n",
            "Match Found\n",
            "Match Found\n",
            "No Match\n",
            "No Match\n"
          ]
        }
      ]
    },
    {
      "cell_type": "code",
      "source": [
        "# 3.Write a Python program that matches a string that has an ‘a’ followed by one or more p's\n",
        "import re\n",
        "def match_app(s):\n",
        "  p=r'a(p+)$'\n",
        "  if re.match(p,s):\n",
        "    return(\"Match Found\")\n",
        "  else:\n",
        "    return (\"No match\")\n",
        "print(match_app(\"ap\"))\n",
        "print(match_app(\"apppp\"))\n",
        "print(match_app(\"a\"))"
      ],
      "metadata": {
        "colab": {
          "base_uri": "https://localhost:8080/"
        },
        "id": "PtWKYUjkNY-1",
        "outputId": "0e7f3bc5-2123-44ea-da92-dd4ab6e28cf7"
      },
      "execution_count": null,
      "outputs": [
        {
          "output_type": "stream",
          "name": "stdout",
          "text": [
            "Match Found\n",
            "Match Found\n",
            "No match\n"
          ]
        }
      ]
    },
    {
      "cell_type": "code",
      "source": [
        "# 4.Write a Python program that matches a string that has an ‘a’ followed by zero or one z's\n",
        "import re\n",
        "def match_az(s):\n",
        "    # Define the pattern to match the desired string\n",
        "    pattern = r'a(z?)$'\n",
        "    if re.match(pattern, s):\n",
        "        return(\"Match Found\")\n",
        "    else:\n",
        "        return(\"No Match\")\n",
        "print(match_az(\"a\"))\n",
        "print(match_az(\"az\"))\n",
        "print(match_az(\"azz\"))"
      ],
      "metadata": {
        "colab": {
          "base_uri": "https://localhost:8080/"
        },
        "id": "tTeU9UfmgiHF",
        "outputId": "12e9c6b1-4a64-40ed-a507-c50cdebd9ea2"
      },
      "execution_count": null,
      "outputs": [
        {
          "output_type": "stream",
          "name": "stdout",
          "text": [
            "Match Found\n",
            "Match Found\n",
            "No Match\n"
          ]
        }
      ]
    },
    {
      "cell_type": "code",
      "source": [
        "# 5.Write a Python program that matches a string that has an ‘a’ followed by three h's\n",
        "import re\n",
        "def match_ahhh(s):\n",
        "  p=r'a(h{3})$'\n",
        "  if re.match(p,s):\n",
        "    return(\"Match Found\")\n",
        "  else:\n",
        "    return (\"No match\")\n",
        "print(match_ahhh(\"ahhh\"))\n",
        "print(match_ahhh(\"ahh\"))\n",
        "print(match_ahhh(\"ahhhh\"))"
      ],
      "metadata": {
        "colab": {
          "base_uri": "https://localhost:8080/"
        },
        "id": "Aw2Idim7iCJ2",
        "outputId": "260b062e-c518-4bc8-81de-88aa4328c7c9"
      },
      "execution_count": null,
      "outputs": [
        {
          "output_type": "stream",
          "name": "stdout",
          "text": [
            "Match Found\n",
            "No match\n",
            "No match\n"
          ]
        }
      ]
    },
    {
      "cell_type": "code",
      "source": [
        "# 6.Write a Python program that matches a string that has an ‘a’ followed by two to three 'b'\n",
        "import re\n",
        "def match_abb(s):\n",
        "  p=r'a(b{2,3})'\n",
        "  if re.match(p,s):\n",
        "    return(\"Match Found\")\n",
        "  else:\n",
        "    return (\"No match\")\n",
        "print(match_abb(\"abb\"))\n",
        "print(match_abb(\"abbb\"))\n",
        "print(match_abb(\"ab\"))"
      ],
      "metadata": {
        "colab": {
          "base_uri": "https://localhost:8080/"
        },
        "id": "XAGyniYhihEz",
        "outputId": "c8d77117-5386-4d61-fb40-0d8d9f2052fe"
      },
      "execution_count": null,
      "outputs": [
        {
          "output_type": "stream",
          "name": "stdout",
          "text": [
            "Match Found\n",
            "Match Found\n",
            "No match\n"
          ]
        }
      ]
    },
    {
      "cell_type": "code",
      "source": [
        "# 7.Write a Python program to find the sequences of lower case letters joined by an underscore\n",
        "import re\n",
        "def extract_lowercase_underscore(s):\n",
        "  p=r'^[a-z]+_[a-z]+$'\n",
        "  if re.match(p,s):\n",
        "    return s\n",
        "  else:\n",
        "    return (\"No match\")\n",
        "print(extract_lowercase_underscore(\"hello_world\"))\n",
        "print(extract_lowercase_underscore(\"HELLO_world\"))\n",
        "print(extract_lowercase_underscore(\"hi_SARA\"))\n",
        "print(extract_lowercase_underscore(\"hi sara\"))\n",
        "print(extract_lowercase_underscore(\"cse_e\"))"
      ],
      "metadata": {
        "colab": {
          "base_uri": "https://localhost:8080/"
        },
        "id": "-VJxM8wYnd96",
        "outputId": "32d43d8a-46e8-4fcc-e0e3-8de9e94f8fe1"
      },
      "execution_count": null,
      "outputs": [
        {
          "output_type": "stream",
          "name": "stdout",
          "text": [
            "hello_world\n",
            "No match\n",
            "No match\n",
            "No match\n",
            "cse_e\n"
          ]
        }
      ]
    },
    {
      "cell_type": "code",
      "source": [
        "# 8.Write a Python program to find the sequences of uppercase letter followed by lowercase letters\n",
        "import re\n",
        "def match_upper_lower(s):\n",
        "  p=r'^[A-Z]{1}[a-z]+$'\n",
        "  if re.match(p,s):\n",
        "    return (\"Match Found\")\n",
        "  else:\n",
        "    return (\"No match\")\n",
        "print(match_upper_lower(\"Hello\"))\n",
        "print(match_upper_lower(\"HELLO\"))\n",
        "print(match_upper_lower(\"hello\"))"
      ],
      "metadata": {
        "colab": {
          "base_uri": "https://localhost:8080/"
        },
        "id": "7OSKAF5cqLjk",
        "outputId": "f3896ead-787a-4170-ac86-3eba611933cd"
      },
      "execution_count": null,
      "outputs": [
        {
          "output_type": "stream",
          "name": "stdout",
          "text": [
            "Match Found\n",
            "No match\n",
            "No match\n"
          ]
        }
      ]
    },
    {
      "cell_type": "code",
      "source": [
        "# 9.Write a Python program that matches a string that has \"a\" followed by any letters and ending with \"a\"\n",
        "import re\n",
        "def match_a_anything_a(s):\n",
        "  p=r'^a.*a$'\n",
        "  if re.match(p,s):\n",
        "    return (\"Match Found\")\n",
        "  else:\n",
        "    return (\"No match\")\n",
        "print(match_a_anything_a(\"a\"))\n",
        "print(match_a_anything_a(\"ahelloa\"))\n",
        "print(match_a_anything_a(\"a123a\"))"
      ],
      "metadata": {
        "colab": {
          "base_uri": "https://localhost:8080/"
        },
        "id": "6_-L6Qe_rqoS",
        "outputId": "22603afd-a861-4d7e-bdd1-01c8e297d3fb"
      },
      "execution_count": null,
      "outputs": [
        {
          "output_type": "stream",
          "name": "stdout",
          "text": [
            "No match\n",
            "Match Found\n",
            "Match Found\n"
          ]
        }
      ]
    },
    {
      "cell_type": "code",
      "source": [
        "# 10.Write a Python program that matches only words made of letters at the beginning of a string\n",
        "import re\n",
        "def match_word_start(s):\n",
        "  p=r'^[a-zA-Z]+'\n",
        "  if re.match(p,s):\n",
        "    return (\"Match Found\")\n",
        "  else:\n",
        "    return (\"No match\")\n",
        "print(match_word_start(\"Hello world\"))\n",
        "print(match_word_start(\"!123hi\"))\n",
        "print(match_word_start(\"123hello\"))"
      ],
      "metadata": {
        "colab": {
          "base_uri": "https://localhost:8080/"
        },
        "id": "Q0U36QFDsgjJ",
        "outputId": "34ae86b0-9f59-4881-e300-d11fc6fcaad5"
      },
      "execution_count": null,
      "outputs": [
        {
          "output_type": "stream",
          "name": "stdout",
          "text": [
            "Match Found\n",
            "No match\n",
            "No match\n"
          ]
        }
      ]
    },
    {
      "cell_type": "code",
      "source": [
        "# 11.Write a Python program that matches only words made of letters and numbers at the end of a string\n",
        "import re\n",
        "def match_word_end(s):\n",
        "  p=r\"[a-zA-Z0-9]+$\"\n",
        "  if re.search(p,s):\n",
        "    return (\"Match Found\")\n",
        "  else:\n",
        "    return (\"No match\")\n",
        "print(match_word_end(\"Hello world\"))\n",
        "print(match_word_end(\"12345\"))\n",
        "print(match_word_end(\"Done!\"))"
      ],
      "metadata": {
        "colab": {
          "base_uri": "https://localhost:8080/"
        },
        "id": "4gNf4mzptbCY",
        "outputId": "6f152594-ad83-4923-f6fe-88ab5297d27e"
      },
      "execution_count": null,
      "outputs": [
        {
          "output_type": "stream",
          "name": "stdout",
          "text": [
            "Match Found\n",
            "Match Found\n",
            "No match\n"
          ]
        }
      ]
    },
    {
      "cell_type": "code",
      "source": [
        "# 12.Write a Python program that matches a word containing 'z'\n",
        "import re\n",
        "def match_word_z(s):\n",
        "  p=r\"[z]\"\n",
        "  if re.findall(p,s):\n",
        "    return s\n",
        "  else:\n",
        "    return (\"(empty)\")\n",
        "print(match_word_z(\"buzzing bee\"))\n",
        "print(match_word_z(\"hello world\"))\n",
        "print(match_word_z(\"zebra\"))"
      ],
      "metadata": {
        "colab": {
          "base_uri": "https://localhost:8080/"
        },
        "id": "XniRqUIjulsZ",
        "outputId": "008313b1-54ad-49e9-c6da-ff5f54030779"
      },
      "execution_count": null,
      "outputs": [
        {
          "output_type": "stream",
          "name": "stdout",
          "text": [
            "buzzing bee\n",
            "(empty)\n",
            "zebra\n"
          ]
        }
      ]
    },
    {
      "cell_type": "code",
      "source": [
        "# 13.Write a Python program that matches a word containing 'i', not at start not at the end of the string.\n",
        "import re\n",
        "def match_i_not_start_end(s):\n",
        "    pattern = r\"^[a-z]+i[a-z]+$\"\n",
        "    words = s.split()\n",
        "    for word in words:\n",
        "        if re.match(pattern, word):\n",
        "            return s\n",
        "    return \"(empty)\"\n",
        "print(match_i_not_start_end(\"driving fast\"))\n",
        "print(match_i_not_start_end(\"ice cream\"))\n",
        "print(match_i_not_start_end(\"hi nani\"))"
      ],
      "metadata": {
        "colab": {
          "base_uri": "https://localhost:8080/"
        },
        "id": "vPG23cYivzxT",
        "outputId": "c5ac25c1-f2fa-4a16-8642-41627d96a2aa"
      },
      "execution_count": null,
      "outputs": [
        {
          "output_type": "stream",
          "name": "stdout",
          "text": [
            "driving fast\n",
            "No match\n",
            "No match\n"
          ]
        }
      ]
    },
    {
      "cell_type": "code",
      "source": [
        "# 14.Write a Python program to match a string that contains upper and lowercase letters, numbers and underscore only\n",
        "import re\n",
        "def match_alnum_underscore(s):\n",
        "  p=r'^[a-zA-Z0-9]+_[a-zA-Z0-9]+$'\n",
        "  if re.findall(p,s):\n",
        "    return s\n",
        "  else:\n",
        "    return (\"(empty)\")\n",
        "print(match_alnum_underscore(\"valid_name123\"))\n",
        "print(match_alnum_underscore(\"!invalid_name\"))"
      ],
      "metadata": {
        "colab": {
          "base_uri": "https://localhost:8080/"
        },
        "id": "KiYM-4aOzhdn",
        "outputId": "25d88019-0015-4058-8c44-94074514b631"
      },
      "execution_count": null,
      "outputs": [
        {
          "output_type": "stream",
          "name": "stdout",
          "text": [
            "valid_name123\n",
            "(empty)\n",
            "(empty)\n"
          ]
        }
      ]
    },
    {
      "cell_type": "code",
      "source": [
        "# 15.Write a Python program that starts with 8\n",
        "import re\n",
        "def s8(s):\n",
        "  p=r'^8'\n",
        "  if re.match(p,s):\n",
        "    return \"Starts with 8\"\n",
        "  else:\n",
        "    return \"Does not start with 8\"\n",
        "print(s8(\"8hello\"))\n",
        "print(s8(\"hello\"))"
      ],
      "metadata": {
        "colab": {
          "base_uri": "https://localhost:8080/"
        },
        "id": "7QAK65Nr2LpT",
        "outputId": "eba956e4-2397-48de-c596-35a37fa465e5"
      },
      "execution_count": null,
      "outputs": [
        {
          "output_type": "stream",
          "name": "stdout",
          "text": [
            "Starts with 8\n",
            "Does not start with 8\n"
          ]
        }
      ]
    },
    {
      "cell_type": "code",
      "source": [
        "# 16.Write a Python program to remove leading zeros from an IP address.\n",
        "import re\n",
        "\n",
        "def remove_leading_zeros(ip):\n",
        "    # Use regex to replace leading zeros in each segment\n",
        "    return re.sub(r'\\b0+(\\d)', r'\\1', ip)\n",
        "\n",
        "# Test cases\n",
        "print(remove_leading_zeros(\"192.168.001.001\"))   # Output: \"192.168.1.1\"\n",
        "print(remove_leading_zeros(\"127.000.000.001\"))   # Output: \"127.0.0.1\"\n",
        "print(remove_leading_zeros(\"010.000.100.050\"))   # Output: \"10.0.100.50\""
      ],
      "metadata": {
        "colab": {
          "base_uri": "https://localhost:8080/"
        },
        "id": "B079ZxKl3A6S",
        "outputId": "afc9c962-4224-4923-bae4-9b942a861cf5"
      },
      "execution_count": null,
      "outputs": [
        {
          "output_type": "stream",
          "name": "stdout",
          "text": [
            "192.168.1.1\n",
            "127.0.0.1\n",
            "10.0.100.50\n"
          ]
        }
      ]
    },
    {
      "cell_type": "code",
      "source": [
        "# 17.Write a Python program to check for an underscore at the end of a string.\n",
        "import re\n",
        "def us(s):\n",
        "  p=r\"[_]$\"\n",
        "  if re.search(p,s):\n",
        "    return(\"Ends with underscore\")\n",
        "  else:\n",
        "    return(\"Does not end with underscore\")\n",
        "print(us(\"Date_\"))\n",
        "print(us(\"Day\"))\n",
        "print(us(\"Month_\"))\n",
        "print(us(\"Year!\"))"
      ],
      "metadata": {
        "colab": {
          "base_uri": "https://localhost:8080/"
        },
        "id": "VlnOg3IC6L-O",
        "outputId": "65227a40-2eef-49f6-ad8d-fadccbda55aa"
      },
      "execution_count": null,
      "outputs": [
        {
          "output_type": "stream",
          "name": "stdout",
          "text": [
            "Ends with underscore\n",
            "Does not end with underscore\n",
            "Ends with underscore\n",
            "Does not end with underscore\n"
          ]
        }
      ]
    },
    {
      "cell_type": "code",
      "source": [
        "# 18.Write a Python program to search the numbers(0-9) of length between 1 to 3 for a given string.\n",
        "import re\n",
        "def find_numbers_1_to_3_digits(s):\n",
        "    pattern = r'\\b\\d{1,3}\\b'\n",
        "    return re.findall(pattern, s)\n",
        "# Test cases\n",
        "print(find_numbers_1_to_3_digits(\"My numbers are 7, 45, 123, and 4567.\"))  # ['7', '45', '123']\n",
        "print(find_numbers_1_to_3_digits(\"Code 004 and 009 are errors, but 9999 is fine.\"))  # ['004', '009']\n",
        "print(find_numbers_1_to_3_digits(\"No numbers here.\"))  # []"
      ],
      "metadata": {
        "colab": {
          "base_uri": "https://localhost:8080/"
        },
        "id": "9UutBers8JR7",
        "outputId": "ac6467df-7631-41fb-8bd4-82e3c3ac9141"
      },
      "execution_count": null,
      "outputs": [
        {
          "output_type": "stream",
          "name": "stdout",
          "text": [
            "['7', '45', '123']\n",
            "['004', '009']\n",
            "[]\n"
          ]
        }
      ]
    },
    {
      "cell_type": "code",
      "source": [
        "'''19. Write a Python program to search a set of strings in a given string. Sample text : 'Flowers are among the ecosystem’s most important and beautiful parts.\n",
        "My favourite flower is the rose amongst all the other flowers! A red rose is the most attractive flower to look at. The name of the flower ‘rose’ originates from\n",
        "the Latin word ‘Rosa’.' Searched for words : 'flower', ‘rose’. '''\n",
        "import re\n",
        "\n",
        "def search_words(text, words):\n",
        "    # Create a regex pattern from the list of words\n",
        "    pattern = r'\\b(?:' + '|'.join(words) + r')\\b'\n",
        "    # Find all matches, case-insensitive\n",
        "    matches = re.findall(pattern, text, re.IGNORECASE)\n",
        "    return matches\n",
        "# Words to search\n",
        "words_to_search = ['flower', 'rose']\n",
        "\n",
        "# Run the function\n",
        "found_words = search_words(text, words_to_search)\n",
        "\n",
        "# Output\n",
        "print(\"Matched words:\", found_words)\n",
        "print(\"Count:\", len(found_words))"
      ],
      "metadata": {
        "colab": {
          "base_uri": "https://localhost:8080/"
        },
        "id": "zw_z5Pfw_T_e",
        "outputId": "4fda0d18-afea-4411-e507-93deef9ab9ff"
      },
      "execution_count": null,
      "outputs": [
        {
          "output_type": "stream",
          "name": "stdout",
          "text": [
            "Matched words: ['flower', 'rose', 'rose', 'flower', 'flower', 'rose']\n",
            "Count: 6\n"
          ]
        }
      ]
    },
    {
      "cell_type": "code",
      "source": [
        "''' 20.Write a Python program to search a literals string in a string and also find the location within the original string where the pattern occurs.\n",
        "Sample text : 'Flowers are among the ecosystem’s most important and beautiful parts. My favourite flower is the rose amongst all the other flowers!\n",
        "A red rose is the most attractive flower to look at. The name of the flower ‘rose’ originates from the Latin word ‘Rosa’.' Searched for word :‘rose’.'''\n",
        "import re\n",
        "\n",
        "def find_word_locations(text, word):\n",
        "    pattern = r'\\b' + re.escape(word) + r'\\b'\n",
        "    matches = re.finditer(pattern, text, re.IGNORECASE)\n",
        "\n",
        "    result = []\n",
        "    for match in matches:\n",
        "        result.append({\n",
        "            'word': match.group(),\n",
        "            'start': match.start(),\n",
        "            'end': match.end()\n",
        "        })\n",
        "    return result\n",
        "# Search for the word 'rose'\n",
        "results = find_word_locations(text, 'rose')\n",
        "\n",
        "# Display results\n",
        "for entry in results:\n",
        "    print(entry)"
      ],
      "metadata": {
        "colab": {
          "base_uri": "https://localhost:8080/"
        },
        "id": "mbs3fr58H6-B",
        "outputId": "eae1e410-9a7c-44bb-e4d8-63d89ad222ce"
      },
      "execution_count": null,
      "outputs": [
        {
          "output_type": "stream",
          "name": "stdout",
          "text": [
            "{'word': 'rose', 'start': 98, 'end': 102}\n",
            "{'word': 'rose', 'start': 140, 'end': 144}\n",
            "{'word': 'rose', 'start': 211, 'end': 215}\n"
          ]
        }
      ]
    },
    {
      "cell_type": "code",
      "source": [
        "# 21.Write a Python program to find the substrings within a string. Sample text :'Python exercises, C exercises, Java exercises' Pattern : 'exercises'\n",
        "import re\n",
        "\n",
        "def find_substrings(text, pattern):\n",
        "    return re.findall(pattern, text, re.IGNORECASE)\n",
        "\n",
        "# Sample text\n",
        "text = 'Python exercises, C exercises, Java exercises'\n",
        "\n",
        "# Pattern to search\n",
        "pattern = 'exercises'\n",
        "\n",
        "# Get results\n",
        "results = find_substrings(text, pattern)\n",
        "\n",
        "# Print the list\n",
        "print(results)"
      ],
      "metadata": {
        "colab": {
          "base_uri": "https://localhost:8080/"
        },
        "id": "ZDX89n1FJTM-",
        "outputId": "71326f1f-19c3-420a-85df-9028664084e3"
      },
      "execution_count": null,
      "outputs": [
        {
          "output_type": "stream",
          "name": "stdout",
          "text": [
            "['exercises', 'exercises', 'exercises']\n"
          ]
        }
      ]
    },
    {
      "cell_type": "code",
      "source": [
        "# 22.Write a Python program to find the occurrence and starting position of the substrings within a string.\n",
        "import re\n",
        "\n",
        "def find_occurrences(text, pattern):\n",
        "    matches = re.finditer(re.escape(pattern), text, re.IGNORECASE)\n",
        "    result = {}\n",
        "\n",
        "    # Keep track of occurrences\n",
        "    for i, match in enumerate(matches, start=1):\n",
        "        result[f\"occurrence_{i}\"] = {'match': match.group(), 'start': match.start()}\n",
        "    return result\n",
        "\n",
        "# Sample text\n",
        "text = 'Python exercises, C exercises, Java exercises'\n",
        "pattern = 'exercises'\n",
        "\n",
        "# Run the function\n",
        "results = find_occurrences(text, pattern)\n",
        "\n",
        "# Print the dictionary\n",
        "print(results)\n"
      ],
      "metadata": {
        "colab": {
          "base_uri": "https://localhost:8080/"
        },
        "id": "NJQiRso1KnoC",
        "outputId": "0f1a7088-bc6d-45e6-bc47-66d78c532491"
      },
      "execution_count": null,
      "outputs": [
        {
          "output_type": "stream",
          "name": "stdout",
          "text": [
            "{'occurrence_1': {'match': 'exercises', 'start': 7}, 'occurrence_2': {'match': 'exercises', 'start': 20}, 'occurrence_3': {'match': 'exercises', 'start': 36}}\n"
          ]
        }
      ]
    },
    {
      "cell_type": "code",
      "source": [
        "# 23.Write a Python program to replace whitespaces with an underscore and viceversa\n",
        "import re\n",
        "\n",
        "def replace_whitespace_and_underscore(text, mode='space_to_underscore'):\n",
        "    if mode == 'space_to_underscore':\n",
        "        return re.sub(r'\\s+', '_', text)\n",
        "    elif mode == 'underscore_to_space':\n",
        "        return re.sub(r'_+', ' ', text)\n",
        "    else:\n",
        "        return \"Invalid mode. Use 'space_to_underscore' or 'underscore_to_space'.\"\n",
        "\n",
        "# Sample usage\n",
        "text1 = \"This is a sample text\"\n",
        "text2 = \"This_is_a_sample_text\"\n",
        "\n",
        "print(replace_whitespace_and_underscore(text1, 'space_to_underscore'))\n",
        "print(replace_whitespace_and_underscore(text2, 'underscore_to_space'))"
      ],
      "metadata": {
        "colab": {
          "base_uri": "https://localhost:8080/"
        },
        "id": "rYE7evVfMBXu",
        "outputId": "4484ebec-dcd4-4266-8d39-4ca6f481515f"
      },
      "execution_count": null,
      "outputs": [
        {
          "output_type": "stream",
          "name": "stdout",
          "text": [
            "This_is_a_sample_text\n",
            "This is a sample text\n"
          ]
        }
      ]
    },
    {
      "cell_type": "code",
      "source": [
        "# 24.Write a python program to extract domain names from an url\n",
        "import re\n",
        "\n",
        "def extract_domain(url):\n",
        "    # This pattern captures domain name after http:// or https:// and optional www.\n",
        "    pattern = r'https?://(?:www\\.)?([^/]+)'\n",
        "    match = re.search(pattern, url)\n",
        "    if match:\n",
        "        return match.group(1)\n",
        "    else:\n",
        "        return \"No domain found\"\n",
        "\n",
        "# Sample usage\n",
        "urls = [\n",
        "    \"https://www.google.com/search\",\n",
        "    \"http://example.org/about\",\n",
        "]\n",
        "\n",
        "for url in urls:\n",
        "    print(f\"{url} → {extract_domain(url)}\")\n"
      ],
      "metadata": {
        "colab": {
          "base_uri": "https://localhost:8080/"
        },
        "id": "fXLCmtImNIr6",
        "outputId": "8469c4cd-6c52-4de6-9768-252fe8f5ae81"
      },
      "execution_count": null,
      "outputs": [
        {
          "output_type": "stream",
          "name": "stdout",
          "text": [
            "https://www.google.com/search → google.com\n",
            "http://example.org/about → example.org\n"
          ]
        }
      ]
    },
    {
      "cell_type": "code",
      "source": [
        "# 25.Write a Python program to convert a date of dd-mm-yyyy format of yyyy-mm-dd format.\n",
        "import re\n",
        "\n",
        "def convert_date_format(date_str):\n",
        "    # Match dd-mm-yyyy and rearrange using groups\n",
        "    pattern = r'^(\\d{2})-(\\d{2})-(\\d{4})$'\n",
        "    match = re.match(pattern, date_str)\n",
        "    if match:\n",
        "        day, month, year = match.groups()\n",
        "        return f\"{year}-{month}-{day}\"\n",
        "    else:\n",
        "        return \"Invalid date format\"\n",
        "\n",
        "# Sample usage\n",
        "dates = [\n",
        "    \"06-05-2025\",\n",
        "    \"31-12-1999\",\n",
        "]\n",
        "\n",
        "for d in dates:\n",
        "    print(f\"{d} → {convert_date_format(d)}\")"
      ],
      "metadata": {
        "colab": {
          "base_uri": "https://localhost:8080/"
        },
        "id": "Gm3LgQrXNw1I",
        "outputId": "9a988109-8365-404f-8975-1b3df82d034d"
      },
      "execution_count": null,
      "outputs": [
        {
          "output_type": "stream",
          "name": "stdout",
          "text": [
            "06-05-2025 → 2025-05-06\n",
            "31-12-1999 → 1999-12-31\n"
          ]
        }
      ]
    },
    {
      "cell_type": "code",
      "source": [
        "# 26.Write a Python program to match two words from a list for words starting with 'S'.\n",
        "import re\n",
        "from itertools import combinations\n",
        "\n",
        "def match_s_words(word_list):\n",
        "    # Filter words starting with 'S' or 's' using regex\n",
        "    s_words = [word for word in word_list if re.match(r'^s', word, re.IGNORECASE)]\n",
        "\n",
        "    # Get all unique pairs (combinations of 2)\n",
        "    return list(combinations(s_words, 2))\n",
        "\n",
        "# Sample word list\n",
        "words = [\"Sun\", \"sky\", \"Cloud\", \"Star\", \"moon\"]\n",
        "\n",
        "# Find matching pairs\n",
        "pairs = match_s_words(words)\n",
        "\n",
        "# Print result\n",
        "print(\"Matching 'S' word pairs:\")\n",
        "for pair in pairs:\n",
        "    print(pair)"
      ],
      "metadata": {
        "colab": {
          "base_uri": "https://localhost:8080/"
        },
        "id": "y9_uatZ6Oh1Q",
        "outputId": "4bb22cf2-cdd0-4caa-8c08-2add6b4351ec"
      },
      "execution_count": null,
      "outputs": [
        {
          "output_type": "stream",
          "name": "stdout",
          "text": [
            "Matching 'S' word pairs:\n",
            "('Sun', 'sky')\n",
            "('Sun', 'Star')\n",
            "('sky', 'Star')\n"
          ]
        }
      ]
    },
    {
      "cell_type": "code",
      "source": [
        "# 27.Write a Python program to separate and print numbers of a given string\n",
        "import re\n",
        "\n",
        "def extract_numbers(s):\n",
        "    # Find all groups of digits in the string\n",
        "    numbers = re.findall(r'\\d+', s)\n",
        "    return numbers\n",
        "\n",
        "# Sample usage\n",
        "text = \"The price is 45 dollars and 10 cents\"\n",
        "\n",
        "# Extract and print numbers\n",
        "print(\"Extracted numbers:\", extract_numbers(text))"
      ],
      "metadata": {
        "colab": {
          "base_uri": "https://localhost:8080/"
        },
        "id": "o9P3mQXAPo5n",
        "outputId": "bfea396b-ecaf-4a25-adb4-582942764172"
      },
      "execution_count": null,
      "outputs": [
        {
          "output_type": "stream",
          "name": "stdout",
          "text": [
            "Extracted numbers: ['45', '10']\n"
          ]
        }
      ]
    },
    {
      "cell_type": "code",
      "source": [
        "# 28.Write a Python program to find all words starting with 'a' or 'e'\n",
        "import re\n",
        "\n",
        "def find_words_starting_with_a_or_e(text):\n",
        "    # \\b[aAeE]\\w* matches words starting with 'a' or 'e'\n",
        "    pattern = r'\\b[aAeE]\\w*'\n",
        "    words = re.findall(pattern, text)\n",
        "    return words\n",
        "\n",
        "# Sample usage\n",
        "text = \"Eagle is a bird and Fox is an animal.\"\n",
        "\n",
        "# Find and print words\n",
        "print(\"Words starting with 'a' or 'e':\", find_words_starting_with_a_or_e(text))\n"
      ],
      "metadata": {
        "colab": {
          "base_uri": "https://localhost:8080/"
        },
        "id": "YgZvw6bHQN8q",
        "outputId": "5077c11f-1736-427e-82bb-0534ba209c0c"
      },
      "execution_count": null,
      "outputs": [
        {
          "output_type": "stream",
          "name": "stdout",
          "text": [
            "Words starting with 'a' or 'e': ['Eagle', 'a', 'and', 'an', 'animal']\n"
          ]
        }
      ]
    },
    {
      "cell_type": "code",
      "source": [
        "# 29.Write a Python program to separte and print the numbers and their positons.\n",
        "import re\n",
        "\n",
        "def extract_numbers_and_positions(text):\n",
        "    # \\d+ matches sequences of digits\n",
        "    matches = re.finditer(r'\\d+', text)\n",
        "    result = {match.group(): match.start() for match in matches}\n",
        "    return result\n",
        "\n",
        "# Sample usage\n",
        "text = \"There a 2 cats, 15 dogs and 100 birds.\"\n",
        "\n",
        "# Extract and print results\n",
        "print(\"Numbers and their positions:\", extract_numbers_and_positions(text))\n"
      ],
      "metadata": {
        "id": "8JonSLA9Q2I2",
        "colab": {
          "base_uri": "https://localhost:8080/"
        },
        "outputId": "095aaf77-8085-4557-a986-9785c4d102b4"
      },
      "execution_count": null,
      "outputs": [
        {
          "output_type": "stream",
          "name": "stdout",
          "text": [
            "Numbers and their positions: {'2': 8, '15': 16, '100': 28}\n"
          ]
        }
      ]
    },
    {
      "cell_type": "code",
      "source": [
        "# 30.Write a Python program to abbrevate 'End Of Day' as 'eod'. in a given string.\n",
        "import re\n",
        "\n",
        "def abbreviate_end_of_day(text):\n",
        "    # Replace 'End Of Day' with 'eod', case-insensitive\n",
        "    return re.sub(r'\\bEnd Of Day\\b', 'eod', text, flags=re.IGNORECASE)\n",
        "\n",
        "# Sample usage\n",
        "text = \"The Meeting is scheduled by the End Of Day\"\n",
        "result = abbreviate_end_of_day(text)\n",
        "\n",
        "print(\"Abbreviated Text:\", result)\n"
      ],
      "metadata": {
        "colab": {
          "base_uri": "https://localhost:8080/"
        },
        "id": "Rmt8EsCcRrpl",
        "outputId": "19b6d380-c017-45b6-94df-36613e900da0"
      },
      "execution_count": null,
      "outputs": [
        {
          "output_type": "stream",
          "name": "stdout",
          "text": [
            "Abbreviated Text: The Meeting is scheduled by the eod\n"
          ]
        }
      ]
    }
  ]
}